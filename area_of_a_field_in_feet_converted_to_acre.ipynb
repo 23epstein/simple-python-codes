{
  "nbformat": 4,
  "nbformat_minor": 0,
  "metadata": {
    "colab": {
      "provenance": [],
      "authorship_tag": "ABX9TyNuy+i//fTvBHm/6fbM7CwW",
      "include_colab_link": true
    },
    "kernelspec": {
      "name": "python3",
      "display_name": "Python 3"
    },
    "language_info": {
      "name": "python"
    }
  },
  "cells": [
    {
      "cell_type": "markdown",
      "metadata": {
        "id": "view-in-github",
        "colab_type": "text"
      },
      "source": [
        "<a href=\"https://colab.research.google.com/github/23epstein/simple-python-codes/blob/main/area_of_a_field_in_feet_converted_to_acre.ipynb\" target=\"_parent\"><img src=\"https://colab.research.google.com/assets/colab-badge.svg\" alt=\"Open In Colab\"/></a>"
      ]
    },
    {
      "cell_type": "code",
      "execution_count": 1,
      "metadata": {
        "colab": {
          "base_uri": "https://localhost:8080/"
        },
        "id": "aFRSu8hq7yyF",
        "outputId": "0ca1cf74-36be-46ae-a7bf-dddad824887e"
      },
      "outputs": [
        {
          "output_type": "stream",
          "name": "stdout",
          "text": [
            "Enter the length of the field (in feet)45\n",
            "Enter the width of the field (in feet)85\n",
            "The area of the field is 0.0878099173553719 acres.\n"
          ]
        }
      ],
      "source": [
        "def calculate():\n",
        "    length_feet = float(input(\"Enter the length of the field (in feet)\"))\n",
        "    width_feet = float(input(\"Enter the width of the field (in feet)\"))\n",
        "\n",
        "    #convert the area of the field in acres\n",
        "    area_acres = (length_feet * width_feet)/ 43560\n",
        "    # 1 acre =43560 square feet\n",
        "\n",
        "    #Display the area of the field in acres\n",
        "    print(f\"The area of the field is {area_acres} acres.\")\n",
        "\n",
        "calculate()"
      ]
    }
  ]
}