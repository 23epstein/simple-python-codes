{
  "nbformat": 4,
  "nbformat_minor": 0,
  "metadata": {
    "colab": {
      "provenance": [],
      "authorship_tag": "ABX9TyNisgxWFxisdqksvK/0EtDm",
      "include_colab_link": true
    },
    "kernelspec": {
      "name": "python3",
      "display_name": "Python 3"
    },
    "language_info": {
      "name": "python"
    }
  },
  "cells": [
    {
      "cell_type": "markdown",
      "metadata": {
        "id": "view-in-github",
        "colab_type": "text"
      },
      "source": [
        "<a href=\"https://colab.research.google.com/github/23epstein/simple-python-codes/blob/main/area%20calculator%20of%20room.ipynb\" target=\"_parent\"><img src=\"https://colab.research.google.com/assets/colab-badge.svg\" alt=\"Open In Colab\"/></a>"
      ]
    },
    {
      "cell_type": "code",
      "execution_count": 1,
      "metadata": {
        "colab": {
          "base_uri": "https://localhost:8080/"
        },
        "id": "-rTvFu3s67vQ",
        "outputId": "6c660eaa-c5bc-445b-c731-6c11229ae1cd"
      },
      "outputs": [
        {
          "output_type": "stream",
          "name": "stdout",
          "text": [
            "Enter the width of the room (in meters): 10\n",
            "Enter the length of the room (in meters): 20\n",
            "The area of the room is 200.0 square meters.\n"
          ]
        }
      ],
      "source": [
        "def calculate_area():\n",
        "    # Ask the user to enter the dimensions of the room\n",
        "    width = float(input(\"Enter the width of the room (in meters): \"))\n",
        "    length = float(input(\"Enter the length of the room (in meters): \"))\n",
        "\n",
        "    # Calculate the area of the room\n",
        "    area = width * length\n",
        "\n",
        "    # Display the area of the room\n",
        "    print(f\"The area of the room is {area} square meters.\")\n",
        "\n",
        "calculate_area()\n"
      ]
    }
  ]
}